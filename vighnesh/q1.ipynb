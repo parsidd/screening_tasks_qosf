{
  "nbformat": 4,
  "nbformat_minor": 0,
  "metadata": {
    "colab": {
      "name": "q1.ipynb",
      "provenance": [],
      "collapsed_sections": []
    },
    "kernelspec": {
      "name": "python3",
      "display_name": "Python 3"
    }
  },
  "cells": [
    {
      "cell_type": "markdown",
      "metadata": {
        "id": "hL8ttsnX8rQ8",
        "colab_type": "text"
      },
      "source": [
        "#Task 1"
      ]
    },
    {
      "cell_type": "markdown",
      "metadata": {
        "id": "KQUtF0szFU78",
        "colab_type": "text"
      },
      "source": [
        "#Problem Statement\n",
        "\n",
        "Report a plot of $\\epsilon$ where\n",
        "$$ \\epsilon = min || |\\psi(\\theta)> - |\\phi> ||$$\n",
        "$\\psi(\\theta)$ is the output of the Paramtertised Quantum Circuit."
      ]
    },
    {
      "cell_type": "code",
      "metadata": {
        "id": "X20rkajtlfQ5",
        "colab_type": "code",
        "colab": {}
      },
      "source": [
        "!pip install qiskit\n",
        "!pip install pylatexenc"
      ],
      "execution_count": null,
      "outputs": []
    },
    {
      "cell_type": "code",
      "metadata": {
        "id": "6--s3IuFljhQ",
        "colab_type": "code",
        "colab": {}
      },
      "source": [
        "#Necessary imports\n",
        "import numpy as np\n",
        "import matplotlib.pyplot as plt\n",
        "import qiskit as q"
      ],
      "execution_count": 3,
      "outputs": []
    },
    {
      "cell_type": "markdown",
      "metadata": {
        "id": "TwzCIfE5Ceom",
        "colab_type": "text"
      },
      "source": [
        "Defining necessary functions to make the circuit."
      ]
    },
    {
      "cell_type": "code",
      "metadata": {
        "id": "sUfsgWI6lmWh",
        "colab_type": "code",
        "colab": {}
      },
      "source": [
        "N_qub = 4\n",
        "\n",
        "#Defining helper functions to create the circuits\n",
        "def evenLayer(circ, layer_num, theta):\n",
        "  circ.rz(theta[layer_num,0],0)\n",
        "  circ.rz(theta[layer_num,1],1)\n",
        "  circ.rz(theta[layer_num,2],2)\n",
        "  circ.rz(theta[layer_num,3],3)\n",
        "\n",
        "  #Full entanglement\n",
        "  circ.cz(0,1)\n",
        "  circ.cz(0,2)\n",
        "  circ.cz(0,3)\n",
        "  circ.cz(1,2)\n",
        "  circ.cz(1,3)\n",
        "  circ.cz(2,3)\n",
        "\n",
        "def oddLayer(circ, layer_num, theta):\n",
        "  circ.rx(theta[layer_num,0],0)\n",
        "  circ.rx(theta[layer_num,1],1)\n",
        "  circ.rx(theta[layer_num,2],2)\n",
        "  circ.rx(theta[layer_num,3],3)\n",
        "\n",
        "def createCirc(theta):\n",
        "  theta2 = theta.reshape((2*N_layer, N_qub))\n",
        "  qr = q.QuantumRegister(4, name=\"q\")\n",
        "  cr = q.ClassicalRegister(4, name='c')\n",
        "  circ = q.QuantumCircuit(qr, cr)\n",
        "  ##Adding layers\n",
        "  for i in range(N_layer):\n",
        "    oddLayer(circ, 2*(i-1),theta2)\n",
        "    evenLayer(circ, 2*i-1,theta2)\n",
        "  return circ"
      ],
      "execution_count": 5,
      "outputs": []
    },
    {
      "cell_type": "markdown",
      "metadata": {
        "id": "ABAruicl9xOf",
        "colab_type": "text"
      },
      "source": [
        "The statevector simulator was used as we need to optimize with respect to a state."
      ]
    },
    {
      "cell_type": "code",
      "metadata": {
        "id": "er603mzFm9Z1",
        "colab_type": "code",
        "colab": {
          "base_uri": "https://localhost:8080/",
          "height": 598
        },
        "outputId": "42aaf98f-0abb-4b96-a1a4-90e43f970196"
      },
      "source": [
        "N_qub = 4\n",
        "target_vec = np.asarray(q.quantum_info.random_statevector(16, seed = 10)._data)\n",
        "backend = q.Aer.get_backend(\"statevector_simulator\")\n",
        "\n",
        "N_layer = 1 ##GLOBALLY USED in createCirc function\n",
        "N_layer_max = 10\n",
        "max_iter = 1500\n",
        "#Variable to store error in all the layers, to check convergence\n",
        "error = []\n",
        "\n",
        "#Defining the objective function\n",
        "def objective_function(theta):\n",
        "    qc = createCirc(theta) #The global N_layer value is used\n",
        "    result = q.execute(qc, backend).result()\n",
        "   \n",
        "    cost = (np.sum((abs(np.asarray(result.get_statevector(qc)) - target_vec))**2))**0.5\n",
        "    error.append(cost)\n",
        "    return cost\n",
        "\n",
        "from qiskit.aqua.components.optimizers import COBYLA\n",
        "\n",
        "#Array for storing minimum error of each layer\n",
        "cost_arr = np.zeros((N_layer_max-1,))\n",
        "optimizer = COBYLA(maxiter=max_iter)\n",
        "\n",
        "#Running the simulation\n",
        "while N_layer<N_layer_max:\n",
        "  #Parameter\n",
        "  theta = np.random.uniform(0,2*np.pi, (2*N_layer*N_qub))\n",
        "  print(theta.shape, (2*N_layer*N_qub))\n",
        "  ret = optimizer.optimize(num_vars=(2*N_layer*N_qub), objective_function=objective_function, initial_point=theta)\n",
        "\n",
        "  #Getting final result\n",
        "  qc = createCirc(ret[0])\n",
        "  result = q.execute(qc, backend).result()\n",
        "  cost_arr[N_layer-1] = (np.sum((abs(np.asarray(result.get_statevector(qc)) - target_vec))**2))**0.5\n",
        "\n",
        "  print(\"Output Error:\", ret[1])\n",
        "  #print(\"Parameters Found:\", ret[0])\n",
        "  N_layer = N_layer+1\n",
        "#Plot\n",
        "plt.plot(cost_arr)"
      ],
      "execution_count": 7,
      "outputs": [
        {
          "output_type": "stream",
          "text": [
            "(8,) 8\n",
            "Output Error: 0.7706005104006234\n",
            "(16,) 16\n",
            "Output Error: 0.4338264390398657\n",
            "(24,) 24\n",
            "Output Error: 0.22292720273515784\n",
            "(32,) 32\n",
            "Output Error: 0.413457092972647\n",
            "(40,) 40\n",
            "Output Error: 0.17040070730146145\n",
            "(48,) 48\n",
            "Output Error: 0.11680995396455342\n",
            "(56,) 56\n",
            "Output Error: 0.17209236082308935\n",
            "(64,) 64\n",
            "Output Error: 0.13048855955593391\n",
            "(72,) 72\n",
            "Output Error: 0.05093344187168222\n"
          ],
          "name": "stdout"
        },
        {
          "output_type": "execute_result",
          "data": {
            "text/plain": [
              "[<matplotlib.lines.Line2D at 0x7fe2180e4da0>]"
            ]
          },
          "metadata": {
            "tags": []
          },
          "execution_count": 7
        },
        {
          "output_type": "display_data",
          "data": {
            "image/png": "[encoded data removed]",
            "text/plain": [
              "<Figure size 432x288 with 1 Axes>"
            ]
          },
          "metadata": {
            "tags": [],
            "needs_background": "light"
          }
        }
      ]
    },
    {
      "cell_type": "markdown",
      "metadata": {
        "id": "3-KFISby-T3X",
        "colab_type": "text"
      },
      "source": [
        "The observation as expected is that as expected, with more layers, our search space increases, and we converge to lower errors.\n",
        "\n",
        "With an increasing number of parameters, more number of iterations are needed for convergence. This has been described in graphs shown below.\n"
      ]
    },
    {
      "cell_type": "code",
      "metadata": {
        "id": "j-RTWMXi9pRb",
        "colab_type": "code",
        "colab": {
          "base_uri": "https://localhost:8080/",
          "height": 282
        },
        "outputId": "eb5837f2-f71c-4d5e-bf82-7407023a5320"
      },
      "source": [
        "plt.plot(error)"
      ],
      "execution_count": 14,
      "outputs": [
        {
          "output_type": "execute_result",
          "data": {
            "text/plain": [
              "[<matplotlib.lines.Line2D at 0x7fe2179edf28>]"
            ]
          },
          "metadata": {
            "tags": []
          },
          "execution_count": 14
        },
        {
          "output_type": "display_data",
          "data": {
            "image/png": "[encoded data removed]",
            "text/plain": [
              "<Figure size 432x288 with 1 Axes>"
            ]
          },
          "metadata": {
            "tags": [],
            "needs_background": "light"
          }
        }
      ]
    },
    {
      "cell_type": "markdown",
      "metadata": {
        "id": "JxLFqLAvABvk",
        "colab_type": "text"
      },
      "source": [
        "Answering the **bonus question** on the range of theta we need to consider.\n",
        "\n",
        "If we look at the Rz gate,\n",
        "$$\n",
        "R_z(\\theta) = \\begin{bmatrix}\n",
        "e^{j\\theta/2} & 0 \\\\\n",
        "0 & e^{-j\\theta/2} \n",
        "\\end{bmatrix}\n",
        "$$\n",
        "\n",
        "This can be rewritten as \n",
        "$$\n",
        "R_z(\\theta) = e^{j\\theta/2}\\begin{bmatrix}\n",
        "1 & 0 \\\\\n",
        "0 & e^{-j\\theta}\n",
        "\\end{bmatrix}\n",
        "$$\n",
        "\n",
        "This is just an overall phase of just $\\theta/2$, and can be neglected, and hence, just sampling $\\theta$ from (0,2$\\pi$) is sufficient, instead of (0,$4\\pi$)."
      ]
    },
    {
      "cell_type": "markdown",
      "metadata": {
        "id": "l-z2ifeFFAX6",
        "colab_type": "text"
      },
      "source": [
        "Answering the main **bonus task**, I am running the simulation for another parametrised gate to compare performance."
      ]
    },
    {
      "cell_type": "code",
      "metadata": {
        "id": "EsksPdkH_2cX",
        "colab_type": "code",
        "colab": {}
      },
      "source": [
        "def evenLayer(circ, layer_num, theta):\n",
        "  circ.ry(theta[layer_num,0],0)\n",
        "  circ.ry(theta[layer_num,1],1)\n",
        "  circ.ry(theta[layer_num,2],2)\n",
        "  circ.ry(theta[layer_num,3],3)\n",
        "\n",
        "  #Full entanglement\n",
        "  circ.cz(0,1)\n",
        "  circ.cz(0,2)\n",
        "  circ.cz(0,3)\n",
        "  circ.cz(1,2)\n",
        "  circ.cz(1,3)\n",
        "  circ.cz(2,3)\n",
        "\n",
        "def oddLayer(circ, layer_num, theta):\n",
        "  circ.rx(theta[layer_num,0],0)\n",
        "  circ.rx(theta[layer_num,1],1)\n",
        "  circ.rx(theta[layer_num,2],2)\n",
        "  circ.rx(theta[layer_num,3],3)\n",
        "\n",
        "def createCirc(theta):\n",
        "  theta2 = theta.reshape((2*N_layer, N_qub))\n",
        "  qr = q.QuantumRegister(4, name=\"q\")\n",
        "  cr = q.ClassicalRegister(4, name='c')\n",
        "  circ = q.QuantumCircuit(qr, cr)\n",
        "  ##Adding layers\n",
        "  for i in range(N_layer):\n",
        "    oddLayer(circ, 2*(i-1),theta2)\n",
        "    evenLayer(circ, 2*i-1,theta2)\n",
        "  return circ"
      ],
      "execution_count": 15,
      "outputs": []
    },
    {
      "cell_type": "code",
      "metadata": {
        "id": "x4Y3eMtQ-i95",
        "colab_type": "code",
        "colab": {
          "base_uri": "https://localhost:8080/",
          "height": 595
        },
        "outputId": "b2913755-2e02-45c2-a5d9-d046748d67f6"
      },
      "source": [
        "N_qub = 4\n",
        "target_vec = np.asarray(q.quantum_info.random_statevector(16, seed = 10)._data)\n",
        "backend = q.Aer.get_backend(\"statevector_simulator\")\n",
        "\n",
        "N_layer = 1 ##GLOBALLY USED in createCirc function\n",
        "N_layer_max = 10\n",
        "max_iter = 1500\n",
        "#Variable to store error in all the layers, to check convergence\n",
        "error = []\n",
        "\n",
        "#Defining the objective function\n",
        "def objective_function(theta):\n",
        "    qc = createCirc(theta) #The global N_layer value is used\n",
        "    result = q.execute(qc, backend).result()\n",
        "   \n",
        "    cost = (np.sum((abs(np.asarray(result.get_statevector(qc)) - target_vec))**2))**0.5\n",
        "    error.append(cost)\n",
        "    return cost\n",
        "\n",
        "from qiskit.aqua.components.optimizers import COBYLA\n",
        "\n",
        "#Array for storing minimum error of each layer\n",
        "cost_arr = np.zeros((N_layer_max-1,))\n",
        "optimizer = COBYLA(maxiter=max_iter)\n",
        "\n",
        "#Running the simulation\n",
        "while N_layer<N_layer_max:\n",
        "  #Parameter\n",
        "  theta = np.random.uniform(0,2*np.pi, (2*N_layer*N_qub))\n",
        "  print(theta.shape, (2*N_layer*N_qub))\n",
        "  ret = optimizer.optimize(num_vars=(2*N_layer*N_qub), objective_function=objective_function, initial_point=theta)\n",
        "\n",
        "  #Getting final result\n",
        "  qc = createCirc(ret[0])\n",
        "  result = q.execute(qc, backend).result()\n",
        "  cost_arr[N_layer-1] = (np.sum((abs(np.asarray(result.get_statevector(qc)) - target_vec))**2))**0.5\n",
        "\n",
        "  print(\"Output Error:\", ret[1])\n",
        "  #print(\"Parameters Found:\", ret[0])\n",
        "  N_layer = N_layer+1\n",
        "#Plot\n",
        "plt.plot(cost_arr)"
      ],
      "execution_count": 16,
      "outputs": [
        {
          "output_type": "stream",
          "text": [
            "(8,) 8\n",
            "Output Error: 0.910582523474576\n",
            "(16,) 16\n",
            "Output Error: 0.4742194065936064\n",
            "(24,) 24\n",
            "Output Error: 0.5787052960890016\n",
            "(32,) 32\n",
            "Output Error: 0.19930039283120207\n",
            "(40,) 40\n",
            "Output Error: 0.12007062755513465\n",
            "(48,) 48\n",
            "Output Error: 0.246416507756485\n",
            "(56,) 56\n",
            "Output Error: 0.24173870238489828\n",
            "(64,) 64\n",
            "Output Error: 0.12240391093837136\n",
            "(72,) 72\n",
            "Output Error: 0.1936368092148738\n"
          ],
          "name": "stdout"
        },
        {
          "output_type": "execute_result",
          "data": {
            "text/plain": [
              "[<matplotlib.lines.Line2D at 0x7fe2179976a0>]"
            ]
          },
          "metadata": {
            "tags": []
          },
          "execution_count": 16
        },
        {
          "output_type": "display_data",
          "data": {
            "image/png": "[encoded data removed]",
            "text/plain": [
              "<Figure size 432x288 with 1 Axes>"
            ]
          },
          "metadata": {
            "tags": [],
            "needs_background": "light"
          }
        }
      ]
    },
    {
      "cell_type": "code",
      "metadata": {
        "id": "l7eF58FEn82e",
        "colab_type": "code",
        "colab": {
          "base_uri": "https://localhost:8080/",
          "height": 282
        },
        "outputId": "ff50b008-1b9c-4210-91c9-71ba32ce4144"
      },
      "source": [
        "plt.plot(error)"
      ],
      "execution_count": 17,
      "outputs": [
        {
          "output_type": "execute_result",
          "data": {
            "text/plain": [
              "[<matplotlib.lines.Line2D at 0x7fe217673e80>]"
            ]
          },
          "metadata": {
            "tags": []
          },
          "execution_count": 17
        },
        {
          "output_type": "display_data",
          "data": {
            "image/png": "[encoded data removed]",
            "text/plain": [
              "<Figure size 432x288 with 1 Axes>"
            ]
          },
          "metadata": {
            "tags": [],
            "needs_background": "light"
          }
        }
      ]
    },
    {
      "cell_type": "code",
      "metadata": {
        "id": "2sEZ9cwepvLG",
        "colab_type": "code",
        "colab": {}
      },
      "source": [
        ""
      ],
      "execution_count": null,
      "outputs": []
    }
  ]
}