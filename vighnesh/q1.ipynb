{
  "nbformat": 4,
  "nbformat_minor": 0,
  "metadata": {
    "colab": {
      "name": "q1.ipynb",
      "provenance": [],
      "collapsed_sections": []
    },
    "kernelspec": {
      "name": "python3",
      "display_name": "Python 3"
    }
  },
  "cells": [
    {
      "cell_type": "markdown",
      "metadata": {
        "id": "hL8ttsnX8rQ8",
        "colab_type": "text"
      },
      "source": [
        "#Task 1"
      ]
    },
    {
      "cell_type": "markdown",
      "metadata": {
        "id": "KQUtF0szFU78",
        "colab_type": "text"
      },
      "source": [
        "#Problem Statement\n",
        "\n",
        "Report a plot of $\\epsilon$ where\n",
        "$$ \\epsilon = min || |\\psi(\\theta)> - |\\phi> ||$$\n",
        "$\\psi(\\theta)$ is the output of the Paramtertised Quantum Circuit."
      ]
    },
    {
      "cell_type": "code",
      "metadata": {
        "id": "X20rkajtlfQ5",
        "colab_type": "code",
        "colab": {}
      },
      "source": [
        "!pip install qiskit\n",
        "!pip install pylatexenc"
      ],
      "execution_count": null,
      "outputs": []
    },
    {
      "cell_type": "code",
      "metadata": {
        "id": "6--s3IuFljhQ",
        "colab_type": "code",
        "colab": {}
      },
      "source": [
        "#Necessary imports\n",
        "import numpy as np\n",
        "import matplotlib.pyplot as plt\n",
        "import qiskit as q"
      ],
      "execution_count": 2,
      "outputs": []
    },
    {
      "cell_type": "markdown",
      "metadata": {
        "id": "TwzCIfE5Ceom",
        "colab_type": "text"
      },
      "source": [
        "Defining necessary functions to make the circuit."
      ]
    },
    {
      "cell_type": "code",
      "metadata": {
        "id": "sUfsgWI6lmWh",
        "colab_type": "code",
        "colab": {}
      },
      "source": [
        "N_qub = 4\n",
        "\n",
        "#Defining helper functions to create the circuits\n",
        "def evenLayer(circ, layer_num, theta):\n",
        "  for i in range(N_qub):\n",
        "    circ.rz(theta[layer_num,i],i)\n",
        "\n",
        "  #Full entanglement\n",
        "  for i in range(N_qub):\n",
        "    for j in range(i+1,N_qub):\n",
        "      circ.cz(i,j)\n",
        "\n",
        "def oddLayer(circ, layer_num, theta):\n",
        "  circ.rx(theta[layer_num,0],0)\n",
        "  circ.rx(theta[layer_num,1],1)\n",
        "  circ.rx(theta[layer_num,2],2)\n",
        "  circ.rx(theta[layer_num,3],3)\n",
        "\n",
        "def createCirc(theta):\n",
        "  theta2 = theta.reshape((2*N_layer, N_qub))\n",
        "  qr = q.QuantumRegister(4, name=\"q\")\n",
        "  cr = q.ClassicalRegister(4, name='c')\n",
        "  circ = q.QuantumCircuit(qr, cr)\n",
        "  ##Adding layers\n",
        "  for i in range(N_layer):\n",
        "    oddLayer(circ, 2*(i-1),theta2)\n",
        "    evenLayer(circ, 2*i-1,theta2)\n",
        "  return circ"
      ],
      "execution_count": 9,
      "outputs": []
    },
    {
      "cell_type": "markdown",
      "metadata": {
        "id": "ABAruicl9xOf",
        "colab_type": "text"
      },
      "source": [
        "The statevector simulator was used as we need to optimize with respect to a state."
      ]
    },
    {
      "cell_type": "code",
      "metadata": {
        "id": "er603mzFm9Z1",
        "colab_type": "code",
        "colab": {
          "base_uri": "https://localhost:8080/",
          "height": 595
        },
        "outputId": "20abba9f-c3c0-46e1-8b3e-054205af26a2"
      },
      "source": [
        "N_qub = 4\n",
        "target_vec = np.asarray(q.quantum_info.random_statevector(16, seed = 10)._data)\n",
        "backend = q.Aer.get_backend(\"statevector_simulator\")\n",
        "\n",
        "N_layer = 1 ##GLOBALLY USED in createCirc function\n",
        "N_layer_max = 10\n",
        "max_iter = 1500\n",
        "#Variable to store error in all the layers, to check convergence\n",
        "error = []\n",
        "\n",
        "#Defining the objective function\n",
        "def objective_function(theta):\n",
        "    qc = createCirc(theta) #The global N_layer value is used\n",
        "    result = q.execute(qc, backend).result()\n",
        "   \n",
        "    cost = (np.sum((abs(np.asarray(result.get_statevector(qc)) - target_vec))**2))**0.5\n",
        "    error.append(cost)\n",
        "    return cost\n",
        "\n",
        "from qiskit.aqua.components.optimizers import COBYLA\n",
        "\n",
        "#Array for storing minimum error of each layer\n",
        "cost_arr = np.zeros((N_layer_max-1,))\n",
        "optimizer = COBYLA(maxiter=max_iter)\n",
        "\n",
        "#Running the simulation\n",
        "while N_layer<N_layer_max:\n",
        "  #Parameter\n",
        "  theta = np.random.uniform(0,2*np.pi, (2*N_layer*N_qub))\n",
        "  print(theta.shape, (2*N_layer*N_qub))\n",
        "  ret = optimizer.optimize(num_vars=(2*N_layer*N_qub), objective_function=objective_function, initial_point=theta)\n",
        "\n",
        "  #Getting final result\n",
        "  qc = createCirc(ret[0])\n",
        "  #print(qc.draw())\n",
        "  result = q.execute(qc, backend).result()\n",
        "  cost_arr[N_layer-1] = (np.sum((abs(np.asarray(result.get_statevector(qc)) - target_vec))**2))**0.5\n",
        "\n",
        "  print(\"Output Error:\", ret[1])\n",
        "  #print(\"Parameters Found:\", ret[0])\n",
        "  N_layer = N_layer+1\n",
        "#Plot\n",
        "plt.plot(cost_arr)"
      ],
      "execution_count": 11,
      "outputs": [
        {
          "output_type": "stream",
          "text": [
            "(8,) 8\n",
            "Output Error: 0.9105421941491867\n",
            "(16,) 16\n",
            "Output Error: 0.43371667432043515\n",
            "(24,) 24\n",
            "Output Error: 0.28452713989664563\n",
            "(32,) 32\n",
            "Output Error: 0.1919510174639792\n",
            "(40,) 40\n",
            "Output Error: 0.08315007538628594\n",
            "(48,) 48\n",
            "Output Error: 0.03195806260331572\n",
            "(56,) 56\n",
            "Output Error: 0.06869652039902115\n",
            "(64,) 64\n",
            "Output Error: 0.031874097553555275\n",
            "(72,) 72\n",
            "Output Error: 0.03926534465969656\n"
          ],
          "name": "stdout"
        },
        {
          "output_type": "execute_result",
          "data": {
            "text/plain": [
              "[<matplotlib.lines.Line2D at 0x7f701311b2e8>]"
            ]
          },
          "metadata": {
            "tags": []
          },
          "execution_count": 11
        },
        {
          "output_type": "display_data",
          "data": {
            "image/png": "[encoded data removed]",
            "text/plain": [
              "<Figure size 432x288 with 1 Axes>"
            ]
          },
          "metadata": {
            "tags": [],
            "needs_background": "light"
          }
        }
      ]
    },
    {
      "cell_type": "markdown",
      "metadata": {
        "id": "3-KFISby-T3X",
        "colab_type": "text"
      },
      "source": [
        "The observation as expected is that as expected, with more layers, our search space increases, and we converge to lower errors.\n",
        "\n",
        "With an increasing number of parameters, more number of iterations are needed for convergence. This has been described in graphs shown below.\n",
        "\n",
        "\n",
        "To describe the plot below, the first few iterations are for a circuit with only 1 layer. The second of iterations(Once the error peaks again to when it settles) are for a circuit with 2 layers, and this is the same till 9 layers.\n",
        "\n",
        "This plot is to measure how well the error for each of the circuits settles. As expected, more the number of parameters, we see it takes longer to settle. FOr simplicity, i have fixed all iterations to 1500, however, this is not sufficient for higher number of layers. "
      ]
    },
    {
      "cell_type": "code",
      "metadata": {
        "id": "j-RTWMXi9pRb",
        "colab_type": "code",
        "colab": {
          "base_uri": "https://localhost:8080/",
          "height": 282
        },
        "outputId": "872cc98b-af8d-4352-9458-5cd0929357fc"
      },
      "source": [
        "plt.plot(error)"
      ],
      "execution_count": 12,
      "outputs": [
        {
          "output_type": "execute_result",
          "data": {
            "text/plain": [
              "[<matplotlib.lines.Line2D at 0x7f70127dd940>]"
            ]
          },
          "metadata": {
            "tags": []
          },
          "execution_count": 12
        },
        {
          "output_type": "display_data",
          "data": {
            "image/png": "[encoded data removed]",
            "text/plain": [
              "<Figure size 432x288 with 1 Axes>"
            ]
          },
          "metadata": {
            "tags": [],
            "needs_background": "light"
          }
        }
      ]
    },
    {
      "cell_type": "markdown",
      "metadata": {
        "id": "dsnHHBYytG10",
        "colab_type": "text"
      },
      "source": [
        "The error visibly decreases with addition of every layer, correctly corrobarating with expectations."
      ]
    },
    {
      "cell_type": "markdown",
      "metadata": {
        "id": "JxLFqLAvABvk",
        "colab_type": "text"
      },
      "source": [
        "Answering the **bonus question** on the range of theta we need to consider.\n",
        "\n",
        "If we look at the Rz gate,\n",
        "$$\n",
        "R_z(\\theta) = \\begin{bmatrix}\n",
        "e^{j\\theta/2} & 0 \\\\\n",
        "0 & e^{-j\\theta/2} \n",
        "\\end{bmatrix}\n",
        "$$\n",
        "\n",
        "This can be rewritten as \n",
        "$$\n",
        "R_z(\\theta) = e^{j\\theta/2}\\begin{bmatrix}\n",
        "1 & 0 \\\\\n",
        "0 & e^{-j\\theta}\n",
        "\\end{bmatrix}\n",
        "$$\n",
        "\n",
        "This is just an overall phase of just $\\theta/2$, and can be neglected, and hence, just sampling $\\theta$ from (0,2$\\pi$) is sufficient, instead of (0,$4\\pi$)."
      ]
    },
    {
      "cell_type": "markdown",
      "metadata": {
        "id": "l-z2ifeFFAX6",
        "colab_type": "text"
      },
      "source": [
        "Answering the main **bonus task**, I am running the simulation for another parametrised gate to compare performance.\n",
        "\n",
        "Here, I am relpacing the Rx gate with an Ry gate"
      ]
    },
    {
      "cell_type": "code",
      "metadata": {
        "id": "EsksPdkH_2cX",
        "colab_type": "code",
        "colab": {}
      },
      "source": [
        "N_qub = 4\n",
        "\n",
        "#Defining helper functions to create the circuits\n",
        "def evenLayer(circ, layer_num, theta):\n",
        "  for i in range(N_qub):\n",
        "    circ.ry(theta[layer_num,i],i)\n",
        "\n",
        "  #Full entanglement\n",
        "  for i in range(N_qub):\n",
        "    for j in range(i+1,N_qub):\n",
        "      circ.cz(i,j)\n",
        "\n",
        "def oddLayer(circ, layer_num, theta):\n",
        "  for i in range(N_qub):\n",
        "    circ.rz(theta[layer_num,i],i)\n",
        "\n",
        "def createCirc(theta):\n",
        "  theta2 = theta.reshape((2*N_layer, N_qub))\n",
        "  qr = q.QuantumRegister(4, name=\"q\")\n",
        "  cr = q.ClassicalRegister(4, name='c')\n",
        "  circ = q.QuantumCircuit(qr, cr)\n",
        "  ##Adding layers\n",
        "  for i in range(N_layer):\n",
        "    oddLayer(circ, 2*(i-1),theta2)\n",
        "    evenLayer(circ, 2*i-1,theta2)\n",
        "  return circ"
      ],
      "execution_count": 16,
      "outputs": []
    },
    {
      "cell_type": "code",
      "metadata": {
        "id": "x4Y3eMtQ-i95",
        "colab_type": "code",
        "colab": {
          "base_uri": "https://localhost:8080/",
          "height": 595
        },
        "outputId": "46e458ac-22cc-4caa-fb07-3699e79d7f2f"
      },
      "source": [
        "N_qub = 4\n",
        "target_vec = np.asarray(q.quantum_info.random_statevector(16, seed = 10)._data)\n",
        "backend = q.Aer.get_backend(\"statevector_simulator\")\n",
        "\n",
        "N_layer = 1 ##GLOBALLY USED in createCirc function\n",
        "N_layer_max = 10\n",
        "max_iter = 1500\n",
        "#Variable to store error in all the layers, to check convergence\n",
        "error = []\n",
        "\n",
        "#Defining the objective function\n",
        "def objective_function(theta):\n",
        "    qc = createCirc(theta) #The global N_layer value is used\n",
        "    result = q.execute(qc, backend).result()\n",
        "    \n",
        "    cost = (np.sum((abs(np.asarray(result.get_statevector(qc)) - target_vec))**2))**0.5\n",
        "    error.append(cost)\n",
        "    return cost\n",
        "\n",
        "from qiskit.aqua.components.optimizers import COBYLA\n",
        "\n",
        "#Array for storing minimum error of each layer\n",
        "cost_arr = np.zeros((N_layer_max-1,))\n",
        "optimizer = COBYLA(maxiter=max_iter)\n",
        "\n",
        "#Running the simulation\n",
        "while N_layer<N_layer_max:\n",
        "  #Parameter\n",
        "  theta = np.random.uniform(0,2*np.pi, (2*N_layer*N_qub))\n",
        "  print(theta.shape, (2*N_layer*N_qub))\n",
        "  ret = optimizer.optimize(num_vars=(2*N_layer*N_qub), objective_function=objective_function, initial_point=theta)\n",
        "\n",
        "  #Getting final result\n",
        "  qc = createCirc(ret[0])\n",
        "  result = q.execute(qc, backend).result()\n",
        "  cost_arr[N_layer-1] = (np.sum((abs(np.asarray(result.get_statevector(qc)) - target_vec))**2))**0.5\n",
        "\n",
        "  print(\"Output Error:\", ret[1])\n",
        "  #print(\"Parameters Found:\", ret[0])\n",
        "  N_layer = N_layer+1\n",
        "#Plot\n",
        "plt.plot(cost_arr)"
      ],
      "execution_count": 17,
      "outputs": [
        {
          "output_type": "stream",
          "text": [
            "(8,) 8\n",
            "Output Error: 1.0136288569196295\n",
            "(16,) 16\n",
            "Output Error: 0.6208176361294155\n",
            "(24,) 24\n",
            "Output Error: 0.512353582577308\n",
            "(32,) 32\n",
            "Output Error: 0.2022040349721919\n",
            "(40,) 40\n",
            "Output Error: 0.09458090251169458\n",
            "(48,) 48\n",
            "Output Error: 0.10290918289370982\n",
            "(56,) 56\n",
            "Output Error: 0.08179513232591007\n",
            "(64,) 64\n",
            "Output Error: 0.04196154680439212\n",
            "(72,) 72\n",
            "Output Error: 0.042605347141691285\n"
          ],
          "name": "stdout"
        },
        {
          "output_type": "execute_result",
          "data": {
            "text/plain": [
              "[<matplotlib.lines.Line2D at 0x7f7012775b38>]"
            ]
          },
          "metadata": {
            "tags": []
          },
          "execution_count": 17
        },
        {
          "output_type": "display_data",
          "data": {
            "image/png": "[encoded data removed]",
            "text/plain": [
              "<Figure size 432x288 with 1 Axes>"
            ]
          },
          "metadata": {
            "tags": [],
            "needs_background": "light"
          }
        }
      ]
    },
    {
      "cell_type": "code",
      "metadata": {
        "id": "l7eF58FEn82e",
        "colab_type": "code",
        "colab": {
          "base_uri": "https://localhost:8080/",
          "height": 282
        },
        "outputId": "c46de838-8025-4539-966b-89488b424386"
      },
      "source": [
        "plt.plot(error)"
      ],
      "execution_count": 19,
      "outputs": [
        {
          "output_type": "execute_result",
          "data": {
            "text/plain": [
              "[<matplotlib.lines.Line2D at 0x7f70125dfcf8>]"
            ]
          },
          "metadata": {
            "tags": []
          },
          "execution_count": 19
        },
        {
          "output_type": "display_data",
          "data": {
            "image/png": "[encoded data removed]",
            "text/plain": [
              "<Figure size 432x288 with 1 Axes>"
            ]
          },
          "metadata": {
            "tags": [],
            "needs_background": "light"
          }
        }
      ]
    },
    {
      "cell_type": "code",
      "metadata": {
        "id": "2sEZ9cwepvLG",
        "colab_type": "code",
        "colab": {}
      },
      "source": [
        ""
      ],
      "execution_count": null,
      "outputs": []
    }
  ]
}