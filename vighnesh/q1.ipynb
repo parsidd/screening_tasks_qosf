{
  "nbformat": 4,
  "nbformat_minor": 0,
  "metadata": {
    "colab": {
      "name": "q1.ipynb",
      "provenance": [],
      "collapsed_sections": []
    },
    "kernelspec": {
      "name": "python3",
      "display_name": "Python 3"
    }
  },
  "cells": [
    {
      "cell_type": "markdown",
      "metadata": {
        "id": "hL8ttsnX8rQ8",
        "colab_type": "text"
      },
      "source": [
        "#Task 1"
      ]
    },
    {
      "cell_type": "markdown",
      "metadata": {
        "id": "KQUtF0szFU78",
        "colab_type": "text"
      },
      "source": [
        "###Problem Statement\n",
        "\n",
        "Report a plot of $\\epsilon$ where\n",
        "$$ \\epsilon = min || |\\psi(\\theta)> - |\\phi> ||$$\n",
        "$\\psi(\\theta)$ is the output of the Paramtertised Quantum Circuit as displayed in the question.\n",
        "\n",
        "The problem has been formulated as an unconstrained L2 loss system. We are attempting to solve this using an elementary Quantum approximate optimization algorithm method, sequentially using layers of unitary angle parametrised operators to solve this problem."
      ]
    },
    {
      "cell_type": "code",
      "metadata": {
        "id": "X20rkajtlfQ5",
        "colab_type": "code",
        "colab": {}
      },
      "source": [
        "!pip install qiskit\n",
        "!pip install pylatexenc"
      ],
      "execution_count": null,
      "outputs": []
    },
    {
      "cell_type": "code",
      "metadata": {
        "id": "6--s3IuFljhQ",
        "colab_type": "code",
        "colab": {}
      },
      "source": [
        "#Necessary imports\n",
        "import numpy as np\n",
        "import matplotlib.pyplot as plt\n",
        "import qiskit as q"
      ],
      "execution_count": 2,
      "outputs": []
    },
    {
      "cell_type": "markdown",
      "metadata": {
        "id": "TwzCIfE5Ceom",
        "colab_type": "text"
      },
      "source": [
        "Defining necessary functions to make the circuit. Functions for the odd and even layers.\n"
      ]
    },
    {
      "cell_type": "code",
      "metadata": {
        "id": "sUfsgWI6lmWh",
        "colab_type": "code",
        "colab": {}
      },
      "source": [
        "N_qub = 4\n",
        "\n",
        "#Defining helper functions to create the circuits\n",
        "def evenLayer(circ, layer_num, theta):\n",
        "  for i in range(N_qub):\n",
        "    circ.rz(theta[layer_num,i],i)\n",
        "\n",
        "  #Full entanglement\n",
        "  for i in range(N_qub):\n",
        "    for j in range(i+1,N_qub):\n",
        "      circ.cz(i,j)\n",
        "\n",
        "def oddLayer(circ, layer_num, theta):\n",
        "  for i in range(N_qub):\n",
        "    circ.rx(theta[layer_num,i],i)\n",
        "\n",
        "def createCirc(theta):\n",
        "  theta2 = theta.reshape((2*N_layer, N_qub))\n",
        "  qr = q.QuantumRegister(4, name=\"q\")\n",
        "  cr = q.ClassicalRegister(4, name='c')\n",
        "  circ = q.QuantumCircuit(qr, cr)\n",
        "  ##Adding layers\n",
        "  for i in range(N_layer):\n",
        "    oddLayer(circ, 2*(i-1),theta2)\n",
        "    evenLayer(circ, 2*i-1,theta2)\n",
        "  return circ"
      ],
      "execution_count": 3,
      "outputs": []
    },
    {
      "cell_type": "markdown",
      "metadata": {
        "id": "ABAruicl9xOf",
        "colab_type": "text"
      },
      "source": [
        "The statevector simulator was used as we need to optimize with respect to a state.\n",
        "\n",
        "NOTE: 1 layer = 1 odd + 1 even layer."
      ]
    },
    {
      "cell_type": "code",
      "metadata": {
        "id": "er603mzFm9Z1",
        "colab_type": "code",
        "colab": {
          "base_uri": "https://localhost:8080/",
          "height": 627
        },
        "outputId": "99839278-0099-447f-fd7a-6c68229dcebf"
      },
      "source": [
        "N_qub = 4\n",
        "target_vec = np.asarray(q.quantum_info.random_statevector(16, seed = 10)._data)\n",
        "backend = q.Aer.get_backend(\"statevector_simulator\")\n",
        "\n",
        "N_layer = 1 ##GLOBALLY USED in createCirc function\n",
        "N_layer_max = 10\n",
        "max_iter = 1500\n",
        "#Variable to store error in all the layers, to check convergence\n",
        "error = []\n",
        "\n",
        "#Defining the objective function\n",
        "def objective_function(theta):\n",
        "    qc = createCirc(theta) #The global N_layer value is used\n",
        "    result = q.execute(qc, backend).result()\n",
        "   \n",
        "    cost = (np.sum((abs(np.asarray(result.get_statevector(qc)) - target_vec))**2))**0.5\n",
        "    error.append(cost)\n",
        "    return cost\n",
        "\n",
        "from qiskit.aqua.components.optimizers import COBYLA\n",
        "\n",
        "#Array for storing minimum error of each layer\n",
        "cost_arr = np.zeros((N_layer_max-1,))\n",
        "\n",
        "#defining optimizer\n",
        "optimizer = COBYLA(maxiter=max_iter)\n",
        "\n",
        "#Running the simulation\n",
        "while N_layer<N_layer_max:\n",
        "  #Parameter\n",
        "  theta = np.random.uniform(0,2*np.pi, (2*N_layer*N_qub))\n",
        "  print(theta.shape, (2*N_layer*N_qub))\n",
        "  ret = optimizer.optimize(num_vars=(2*N_layer*N_qub), objective_function=objective_function, initial_point=theta)\n",
        "\n",
        "  #Getting final result\n",
        "  qc = createCirc(ret[0])\n",
        "  #print(qc.draw())\n",
        "  result = q.execute(qc, backend).result()\n",
        "  cost_arr[N_layer-1] = (np.sum((abs(np.asarray(result.get_statevector(qc)) - target_vec))**2))**0.5\n",
        "\n",
        "  print(\"Output Error:\", ret[1])\n",
        "  #print(\"Parameters Found:\", ret[0])\n",
        "  N_layer = N_layer+1\n",
        "#Plot\n",
        "plt.title(\"Plot of $\\epsilon$ vs Number of layers\")\n",
        "plt.ylabel(\"Error or $\\epsilon$\")\n",
        "plt.xlabel(\"Number of layers\")\n",
        "plt.plot(cost_arr)"
      ],
      "execution_count": 4,
      "outputs": [
        {
          "output_type": "stream",
          "text": [
            "(8,) 8\n",
            "Output Error: 0.910541836371607\n",
            "(16,) 16\n",
            "Output Error: 0.4301100025111971\n",
            "(24,) 24\n",
            "Output Error: 0.37347999199228826\n",
            "(32,) 32\n",
            "Output Error: 0.2568185066056778\n",
            "(40,) 40\n",
            "Output Error: 0.12882977565315193\n",
            "(48,) 48\n",
            "Output Error: 0.06124845903406161\n",
            "(56,) 56\n",
            "Output Error: 0.10294952661777032\n",
            "(64,) 64\n",
            "Output Error: 0.08643614134805334\n",
            "(72,) 72\n",
            "Output Error: 0.1118163217663855\n"
          ],
          "name": "stdout"
        },
        {
          "output_type": "execute_result",
          "data": {
            "text/plain": [
              "[<matplotlib.lines.Line2D at 0x7f1a20a6bb00>]"
            ]
          },
          "metadata": {
            "tags": []
          },
          "execution_count": 4
        },
        {
          "output_type": "display_data",
          "data": {
            "image/png": "[encoded data removed]",
            "text/plain": [
              "<Figure size 432x288 with 1 Axes>"
            ]
          },
          "metadata": {
            "tags": [],
            "needs_background": "light"
          }
        }
      ]
    },
    {
      "cell_type": "markdown",
      "metadata": {
        "id": "3-KFISby-T3X",
        "colab_type": "text"
      },
      "source": [
        "The observation as expected is that as expected, with more layers, our search space increases, and we converge to lower errors.\n",
        "\n",
        "With an increasing number of parameters, more number of iterations are needed for convergence. This has been described in graphs shown below.\n",
        "\n",
        "\n",
        " "
      ]
    },
    {
      "cell_type": "code",
      "metadata": {
        "id": "j-RTWMXi9pRb",
        "colab_type": "code",
        "colab": {
          "base_uri": "https://localhost:8080/",
          "height": 312
        },
        "outputId": "44451a1b-95eb-4098-b42c-8149e847f69b"
      },
      "source": [
        "plt.title(\"Error vs iterations (Every 1500 iterations, a new layer has been added)\")\n",
        "plt.xlabel(\"Iterations - Every 1500 iterations, a new layer has been added, and parameters reset\")\n",
        "plt.ylabel(\"Error\")\n",
        "plt.plot(error)"
      ],
      "execution_count": 5,
      "outputs": [
        {
          "output_type": "execute_result",
          "data": {
            "text/plain": [
              "[<matplotlib.lines.Line2D at 0x7f1a2089b2e8>]"
            ]
          },
          "metadata": {
            "tags": []
          },
          "execution_count": 5
        },
        {
          "output_type": "display_data",
          "data": {
            "image/png": "[encoded data removed]",
            "text/plain": [
              "<Figure size 432x288 with 1 Axes>"
            ]
          },
          "metadata": {
            "tags": [],
            "needs_background": "light"
          }
        }
      ]
    },
    {
      "cell_type": "markdown",
      "metadata": {
        "id": "dsnHHBYytG10",
        "colab_type": "text"
      },
      "source": [
        "The error visibly decreases with addition of every layer, correctly corrobarating with expectations.\n",
        "\n",
        "To describe the plot above, the first few iterations(1500 iters) are for a circuit with only 1 layer. The second of iterations(Once the error peaks again to when it settles) are for a circuit with 2 layers, and this is the same till 9 layers.\n",
        "\n",
        "This plot is to measure how well the error for each of the circuits settles. As expected, more the number of parameters, we see it takes longer to settle. FOr simplicity, i have fixed all iterations to 1500, however, this is not sufficient for higher number of layers."
      ]
    },
    {
      "cell_type": "markdown",
      "metadata": {
        "id": "JxLFqLAvABvk",
        "colab_type": "text"
      },
      "source": [
        "###Bonus question\n",
        "Answering the **bonus question** on the range of theta we need to consider, presented as a comment on the google doc.\n",
        "\n",
        "If we look at the Rz gate,\n",
        "$$\n",
        "R_z(\\theta) = \\begin{bmatrix}\n",
        "e^{j\\theta/2} & 0 \\\\\n",
        "0 & e^{-j\\theta/2} \n",
        "\\end{bmatrix}\n",
        "$$\n",
        "\n",
        "This can be rewritten as \n",
        "$$\n",
        "R_z(\\theta) = e^{j\\theta/2}\\begin{bmatrix}\n",
        "1 & 0 \\\\\n",
        "0 & e^{-j\\theta}\n",
        "\\end{bmatrix}\n",
        "$$\n",
        "\n",
        "This is just an overall phase of just $\\theta/2$, and can be neglected, and hence, just sampling $\\theta$ from (0,2$\\pi$) is sufficient, instead of (0,$4\\pi$)."
      ]
    },
    {
      "cell_type": "markdown",
      "metadata": {
        "id": "l-z2ifeFFAX6",
        "colab_type": "text"
      },
      "source": [
        "###Bonus task\n",
        "Answering the main **bonus task**, I am running the simulation for another parametrised gate to compare performance.\n",
        "\n",
        "Here, I am relpacing the Rx gate with an Ry gate"
      ]
    },
    {
      "cell_type": "code",
      "metadata": {
        "id": "EsksPdkH_2cX",
        "colab_type": "code",
        "colab": {}
      },
      "source": [
        "N_qub = 4\n",
        "\n",
        "#Defining helper functions to create the circuits\n",
        "def evenLayer(circ, layer_num, theta):\n",
        "  for i in range(N_qub):\n",
        "    circ.ry(theta[layer_num,i],i)\n",
        "\n",
        "  #Full entanglement\n",
        "  for i in range(N_qub):\n",
        "    for j in range(i+1,N_qub):\n",
        "      circ.cz(i,j)\n",
        "\n",
        "def oddLayer(circ, layer_num, theta):\n",
        "  for i in range(N_qub):\n",
        "    circ.rz(theta[layer_num,i],i)\n",
        "\n",
        "def createCirc(theta):\n",
        "  theta2 = theta.reshape((2*N_layer, N_qub))\n",
        "  qr = q.QuantumRegister(4, name=\"q\")\n",
        "  cr = q.ClassicalRegister(4, name='c')\n",
        "  circ = q.QuantumCircuit(qr, cr)\n",
        "  ##Adding layers\n",
        "  for i in range(N_layer):\n",
        "    oddLayer(circ, 2*(i-1),theta2)\n",
        "    evenLayer(circ, 2*i-1,theta2)\n",
        "  return circ"
      ],
      "execution_count": 6,
      "outputs": []
    },
    {
      "cell_type": "code",
      "metadata": {
        "id": "x4Y3eMtQ-i95",
        "colab_type": "code",
        "colab": {
          "base_uri": "https://localhost:8080/",
          "height": 627
        },
        "outputId": "f9027fb7-9169-440a-9fc2-7c6bc3585f90"
      },
      "source": [
        "N_qub = 4\n",
        "target_vec = np.asarray(q.quantum_info.random_statevector(16, seed = 10)._data)\n",
        "backend = q.Aer.get_backend(\"statevector_simulator\")\n",
        "\n",
        "N_layer = 1 ##GLOBALLY USED in createCirc function\n",
        "N_layer_max = 10\n",
        "max_iter = 1500\n",
        "#Variable to store error in all the layers, to check convergence\n",
        "error = []\n",
        "\n",
        "#Defining the objective function\n",
        "def objective_function(theta):\n",
        "    qc = createCirc(theta) #The global N_layer value is used\n",
        "    result = q.execute(qc, backend).result()\n",
        "\n",
        "    cost = (np.sum((abs(np.asarray(result.get_statevector(qc)) - target_vec))**2))**0.5\n",
        "    error.append(cost)\n",
        "    return cost\n",
        "\n",
        "from qiskit.aqua.components.optimizers import COBYLA\n",
        "\n",
        "#Array for storing minimum error of each layer\n",
        "cost_arr = np.zeros((N_layer_max-1,))\n",
        "optimizer = COBYLA(maxiter=max_iter)\n",
        "\n",
        "#Running the simulation\n",
        "while N_layer<N_layer_max:\n",
        "  #Parameter\n",
        "  theta = np.random.uniform(0,2*np.pi, (2*N_layer*N_qub))\n",
        "  print(theta.shape, (2*N_layer*N_qub))\n",
        "  ret = optimizer.optimize(num_vars=(2*N_layer*N_qub), objective_function=objective_function, initial_point=theta)\n",
        "\n",
        "  #Getting final result\n",
        "  qc = createCirc(ret[0])\n",
        "  result = q.execute(qc, backend).result()\n",
        "  cost_arr[N_layer-1] = (np.sum((abs(np.asarray(result.get_statevector(qc)) - target_vec))**2))**0.5\n",
        "\n",
        "  print(\"Output Error:\", ret[1])\n",
        "  #print(\"Parameters Found:\", ret[0])\n",
        "  N_layer = N_layer+1\n",
        "#Plot\n",
        "plt.title(\"Plot of $\\epsilon$ vs Number of layers\")\n",
        "plt.ylabel(\"Error or $\\epsilon$\")\n",
        "plt.xlabel(\"Number of layers\")\n",
        "plt.plot(cost_arr)"
      ],
      "execution_count": 7,
      "outputs": [
        {
          "output_type": "stream",
          "text": [
            "(8,) 8\n",
            "Output Error: 1.013628857418012\n",
            "(16,) 16\n",
            "Output Error: 0.6526524416585306\n",
            "(24,) 24\n",
            "Output Error: 0.40247701063876157\n",
            "(32,) 32\n",
            "Output Error: 0.2673633352973891\n",
            "(40,) 40\n",
            "Output Error: 0.21566166075477744\n",
            "(48,) 48\n",
            "Output Error: 0.025985794234765824\n",
            "(56,) 56\n",
            "Output Error: 0.07109154968935164\n",
            "(64,) 64\n",
            "Output Error: 0.05246995466567406\n",
            "(72,) 72\n",
            "Output Error: 0.05485770704883382\n"
          ],
          "name": "stdout"
        },
        {
          "output_type": "execute_result",
          "data": {
            "text/plain": [
              "[<matplotlib.lines.Line2D at 0x7f1a20a57908>]"
            ]
          },
          "metadata": {
            "tags": []
          },
          "execution_count": 7
        },
        {
          "output_type": "display_data",
          "data": {
            "image/png": "[encoded data removed]",
            "text/plain": [
              "<Figure size 432x288 with 1 Axes>"
            ]
          },
          "metadata": {
            "tags": [],
            "needs_background": "light"
          }
        }
      ]
    },
    {
      "cell_type": "code",
      "metadata": {
        "id": "l7eF58FEn82e",
        "colab_type": "code",
        "colab": {
          "base_uri": "https://localhost:8080/",
          "height": 312
        },
        "outputId": "0485e988-9edb-4dd0-c7c5-ba7400e0a2ac"
      },
      "source": [
        "plt.title(\"Error vs iterations (Every 1500 iterations, a new layer has been added)\")\n",
        "plt.xlabel(\"Iterations - Every 1500 iterations, a new layer has been added, and parameters reset\")\n",
        "plt.ylabel(\"Error\")\n",
        "plt.plot(error)"
      ],
      "execution_count": 8,
      "outputs": [
        {
          "output_type": "execute_result",
          "data": {
            "text/plain": [
              "[<matplotlib.lines.Line2D at 0x7f1a20d47208>]"
            ]
          },
          "metadata": {
            "tags": []
          },
          "execution_count": 8
        },
        {
          "output_type": "display_data",
          "data": {
            "image/png": "[encoded data removed]",
            "text/plain": [
              "<Figure size 432x288 with 1 Axes>"
            ]
          },
          "metadata": {
            "tags": [],
            "needs_background": "light"
          }
        }
      ]
    },
    {
      "cell_type": "markdown",
      "metadata": {
        "id": "w447LHBNMF-R",
        "colab_type": "text"
      },
      "source": [
        "Performance here is pretty similar. Different permutations of the parametrised gates were tried.\n",
        "\n",
        "In essence, 2 rotations are needed to rotate from one point on the bloch sphere to another, so these permutations are performing similarly."
      ]
    },
    {
      "cell_type": "code",
      "metadata": {
        "id": "2sEZ9cwepvLG",
        "colab_type": "code",
        "colab": {}
      },
      "source": [
        ""
      ],
      "execution_count": 8,
      "outputs": []
    }
  ]
}