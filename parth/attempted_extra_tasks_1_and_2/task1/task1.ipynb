{
  "nbformat": 4,
  "nbformat_minor": 0,
  "metadata": {
    "colab": {
      "name": "qosf_task1.ipynb",
      "provenance": [],
      "collapsed_sections": []
    },
    "kernelspec": {
      "name": "python3",
      "display_name": "Python 3"
    }
  },
  "cells": [
    {
      "source": [
        "Author: Parth S. Shah"
      ],
      "cell_type": "markdown",
      "metadata": {}
    },
    {
      "cell_type": "code",
      "metadata": {
        "id": "vYS4QPyNmujo"
      },
      "source": [
        "# If using this on Google collab, we need to install the packages\n",
        "try:\n",
        "  import google.colab\n",
        "  IN_COLAB = True\n",
        "except:\n",
        "  IN_COLAB = False\n",
        "\n",
        "# If in Colab install qiskit\n",
        "if IN_COLAB:\n",
        "    !pip install qiskit"
      ],
      "execution_count": null,
      "outputs": []
    },
    {
      "cell_type": "code",
      "metadata": {
        "id": "RIh-89mCmoug",
        "outputId": "d30aa3e3-198e-43aa-8a3a-0d36e9ac2c46",
        "colab": {
          "base_uri": "https://localhost:8080/",
          "height": 697
        }
      },
      "source": [
        "# Import the necessary packages\n",
        "from qiskit import BasicAer, execute, QuantumCircuit\n",
        "from qiskit.quantum_info import random_statevector, Statevector\n",
        "from qiskit.circuit import Parameter\n",
        "from qiskit.visualization import plot_histogram, plot_bloch_multivector\n",
        "\n",
        "# Here we use COBYLA from qiskit for optimisation\n",
        "from qiskit.aqua.components.optimizers import COBYLA\n",
        "\n",
        "import numpy as np\n",
        "import matplotlib.pyplot as plt\n",
        "from scipy.optimize import minimize\n",
        "from itertools import combinations\n",
        "\n",
        "# Need to use the statevector simulator since we need to find the norm of the\n",
        "# difference of the 2 vectors\n",
        "backend = BasicAer.get_backend(\"statevector_simulator\")\n",
        "\n",
        "# define some global parameters. N is the number of qubits and MAX_DEPTH is the \n",
        "# maximum number of layers as defined by the problem.\n",
        "# Tolerance and maxiter are for the optimizer. If we are running for larger \n",
        "# depths, then we need to increase the maxiter parameter. We could also use a \n",
        "# different value for different depths.\n",
        "N = 4\n",
        "MAX_DEPTH = 10\n",
        "tol = 1e-3\n",
        "maxiter = 1500\n",
        "\n",
        "params = []\n",
        "complete_circuit = QuantumCircuit(N)\n",
        "phi = np.asarray(random_statevector(2**N).data)\n",
        "final_vector = 0\n",
        "\n",
        "# Even block as defined in the problem\n",
        "def even_block(theta):\n",
        "    eb = QuantumCircuit(N)\n",
        "    # Rz gates\n",
        "    for i in range(N):\n",
        "        eb.rz(theta[i], i)\n",
        "    # CNOT gates. Full entanglement. Note that since the combinations function\n",
        "    # has been used, the middle 2 gates' position are interchanged wrt. the \n",
        "    # problem, but it does not make a difference.\n",
        "    for i in combinations(range(N), 2):\n",
        "        eb.cx(i[0], i[1])\n",
        "    return eb\n",
        "\n",
        "# Odd block as defined in the problem\n",
        "def odd_block(theta):\n",
        "    ob = QuantumCircuit(N)\n",
        "    # Rx gates\n",
        "    for i in range(N):\n",
        "        ob.rx(theta[i], i)\n",
        "    return ob\n",
        "\n",
        "# Cost function. Note that here we only return the square of the norm for faster\n",
        "# calculations. Since minimising the square is the same as minimising the norm \n",
        "# it still works.\n",
        "def evaluate_cost(angles):\n",
        "    params_dict = {}\n",
        "    # Create the dictionary to bind parameters\n",
        "    for i, angle in enumerate(angles):\n",
        "        params_dict[params[i]] = angle\n",
        "    final_state = execute(complete_circuit.bind_parameters(params_dict), backend = backend).result().get_statevector()\n",
        "    final_vector = final_state\n",
        "    temp = np.abs((final_vector-phi))\n",
        "    return temp.dot(temp)\n",
        "\n",
        "optimizer = COBYLA(maxiter=maxiter, tol=tol)\n",
        "costs = []\n",
        "\n",
        "# Use the optimiser for each appending of a layer.\n",
        "for L in range(1, MAX_DEPTH+1):\n",
        "    odd_params = [Parameter(\"theta_\"+str(2*L-1)+\"_\"+str(i)) for i in range(N)]\n",
        "    params += odd_params\n",
        "    even_params = [Parameter(\"theta_\"+str(2*L)+\"_\"+str(i)) for i in range(N)]\n",
        "    params += even_params\n",
        "    complete_circuit.append(odd_block(odd_params), range(N))\n",
        "    complete_circuit.barrier()\n",
        "    complete_circuit.append(even_block(even_params), range(N))\n",
        "    complete_circuit.barrier()\n",
        "    # print(complete_circuit.decompose().draw())\n",
        "    n = len(params)\n",
        "    results = optimizer.optimize(n, objective_function=evaluate_cost, variable_bounds = [(0,2*np.pi) for i in range(n)], initial_point=np.random.random(n))\n",
        "    # print(\"Phi = \", phi.data)\n",
        "    print(\"\\nNumber of layers = \", L, \"\\nMinimal cost = \",results[1], \"\\nNumber of iterations = \", results[2])#, \"\\nAngles = \", results[0])\n",
        "    costs.append(results[1])\n",
        "\n",
        "# angles = np.random.random(2*N)\n",
        "# x = evaluate_cost(angles)\n",
        "# print(np.sum())"
      ],
      "execution_count": 9,
      "outputs": [
        {
          "output_type": "stream",
          "text": [
            "\n",
            "Number of layers =  1 \n",
            "Minimal cost =  0.6779039101467046 \n",
            "Number of iterations =  1032\n",
            "\n",
            "Number of layers =  2 \n",
            "Minimal cost =  0.32114729601688713 \n",
            "Number of iterations =  1500\n",
            "\n",
            "Number of layers =  3 \n",
            "Minimal cost =  0.1530354694261478 \n",
            "Number of iterations =  1500\n",
            "\n",
            "Number of layers =  4 \n",
            "Minimal cost =  0.016597461178307692 \n",
            "Number of iterations =  1500\n",
            "\n",
            "Number of layers =  5 \n",
            "Minimal cost =  0.010083444189883523 \n",
            "Number of iterations =  1500\n",
            "\n",
            "Number of layers =  6 \n",
            "Minimal cost =  0.013036631971177368 \n",
            "Number of iterations =  1500\n",
            "\n",
            "Number of layers =  7 \n",
            "Minimal cost =  0.0023064364061478543 \n",
            "Number of iterations =  1500\n",
            "\n",
            "Number of layers =  8 \n",
            "Minimal cost =  0.0035862841346820207 \n",
            "Number of iterations =  1500\n",
            "\n",
            "Number of layers =  9 \n",
            "Minimal cost =  0.001281439069901779 \n",
            "Number of iterations =  1500\n",
            "\n",
            "Number of layers =  10 \n",
            "Minimal cost =  0.0007488225279245771 \n",
            "Number of iterations =  1500\n"
          ],
          "name": "stdout"
        }
      ]
    },
    {
      "cell_type": "code",
      "metadata": {
        "id": "oaxkS8_Xxurt",
        "outputId": "b19d58ea-e136-4459-a00c-44aec04df715",
        "colab": {
          "base_uri": "https://localhost:8080/",
          "height": 296
        }
      },
      "source": [
        "# Plot of costs against Layers\n",
        "plt.xlabel(\"Layers\")\n",
        "plt.ylabel(\"L2 Norm of Difference in vectors\")\n",
        "plt.plot(np.sqrt(costs))"
      ],
      "execution_count": 10,
      "outputs": [
        {
          "output_type": "execute_result",
          "data": {
            "text/plain": [
              "[<matplotlib.lines.Line2D at 0x7f448892a828>]"
            ]
          },
          "metadata": {
            "tags": []
          },
          "execution_count": 10
        },
        {
          "output_type": "display_data",
          "data": {
            "image/png": "[encoded data removed]",
            "text/plain": [
              "<Figure size 432x288 with 1 Axes>"
            ]
          },
          "metadata": {
            "tags": [],
            "needs_background": "light"
          }
        }
      ]
    },
    {
      "cell_type": "markdown",
      "metadata": {
        "id": "dXOX5aCSE41n"
      },
      "source": [
        "As can be seen the error begins to converge to 0. Note that more iterations must be used for higher layers to continue seeing thi pattern."
      ]
    }
  ]
}